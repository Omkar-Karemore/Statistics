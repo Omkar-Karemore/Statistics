{
 "cells": [
  {
   "cell_type": "markdown",
   "id": "323a94f5-14a3-41c3-ac5a-7881ecde9a05",
   "metadata": {},
   "source": [
    "Hypothesis Testing (Z- Test)"
   ]
  },
  {
   "cell_type": "markdown",
   "id": "4be2f4d8-fc99-4c81-9b66-c21cf2eea56f",
   "metadata": {},
   "source": [
    "Question:-\n",
    "A passport office claims that the passport applications are processed within 30 days of submiting the application from and all necessary documents.The file passport.csv contains processing time of 40 passport applicants. The population standard deviation of the processing time is 12.5 days.Conduct a hypothesis test at significance level alpha=0.05 to verify the claim made by passport office."
   ]
  },
  {
   "cell_type": "markdown",
   "id": "2c75ba47-6d20-4768-818a-13f1c3222a1f",
   "metadata": {},
   "source": [
    "Consider two hypothesis\n",
    "null hypothesis(H0)  u=30\n",
    "alternate hypothesis(H1) u!=30\n",
    "\n",
    "p-value is calculated below:\n",
    " 1) if p-value < alpha then the (H0 null hypothesis) can be rejected\n",
    " 2) IF P-VALUE>= ALPHA then the (H1 alternate hypothesis) can be accepted\n",
    "\n",
    "when to use z-test\n",
    "1)population mean is given\n",
    "2)population standard Deviation is given\n",
    "3)Sample size is greater than or equal to 30."
   ]
  },
  {
   "cell_type": "code",
   "execution_count": 21,
   "id": "06131508-2009-4ed8-a450-cd2920762c49",
   "metadata": {},
   "outputs": [
    {
     "name": "stdout",
     "output_type": "stream",
     "text": [
      "   processing_time\n",
      "0             16.0\n",
      "1             16.0\n",
      "2             30.0\n",
      "3             37.0\n",
      "4             25.0\n",
      "Z value is :  -1.4925950555994747\n",
      "P value is :  0.06777160919961511\n"
     ]
    },
    {
     "data": {
      "text/plain": [
       "(-1.4925950555994747, 0.06777160919961511)"
      ]
     },
     "execution_count": 21,
     "metadata": {},
     "output_type": "execute_result"
    }
   ],
   "source": [
    "import pandas as pd\n",
    "import math\n",
    "from scipy import stats \n",
    "# pop_mean=30\n",
    "# pop_std=12.5\n",
    "passport_df=pd.read_csv('passport.csv')\n",
    "print(passport_df.head(5))\n",
    "def z_score(pop_mean,pop_std,sample):\n",
    "    z_score = (sample.mean()-pop_mean)/(pop_std/math.sqrt(len(sample)))\n",
    "    print('Z value is : ',z_score)\n",
    "    print('P value is : ',stats.norm.cdf(z_score))\n",
    "    return z_score,stats.norm.cdf(z_score)\n",
    "z_score(30,12.5,passport_df.processing_time)\n"
   ]
  },
  {
   "cell_type": "markdown",
   "id": "f3e8f9a2-3653-4fd5-ab00-d76f2559d89a",
   "metadata": {},
   "source": [
    "T-Test has three types \n",
    "1)One Sample T-test\n",
    "2)Two Sample T-test\n",
    "3)Paired T-test"
   ]
  },
  {
   "cell_type": "markdown",
   "id": "36e9950f-7fb5-4b15-9721-3dc4134f4aef",
   "metadata": {},
   "source": [
    "# One- Sample\n",
    "\n",
    "Question:-\n",
    " Arvind Productions (AP) is a newly formed movie production house based out of Mumbai,india. AP was interested in understanding the production cost required for producing Bollywood movie. The industry belives thatt the production house will reqire Inr 500 million on average. It is assumed that the Bollywood movie production cost follows a normal distribution. The production costs of 40 Bollywood movies in millions of rupeesare given in bollywooodmovies.csv file. Conduct and apprpiate hypothesis test at alpha=0.05 to check weather the belife about average producction cost is correct.\n"
   ]
  },
  {
   "cell_type": "code",
   "execution_count": 9,
   "id": "c3f5e81c-2041-4ac1-9bdc-c654e3b6c46c",
   "metadata": {},
   "outputs": [
    {
     "data": {
      "text/plain": [
       "TtestResult(statistic=-2.2845532872667547, pvalue=0.027862556406761777, df=39)"
      ]
     },
     "execution_count": 9,
     "metadata": {},
     "output_type": "execute_result"
    }
   ],
   "source": [
    "import pandas as pd\n",
    "bollywoodmovies_df = pd.read_csv(\"bollywoodmovies.csv\")\n",
    "bollywoodmovies_df.head(5)\n",
    "\n",
    "import math\n",
    "from scipy import stats \n",
    "stats.ttest_1samp(bollywoodmovies_df.production_cost,500)"
   ]
  },
  {
   "cell_type": "markdown",
   "id": "2399d6e1-f1c0-448a-9b7c-7921a94c01ca",
   "metadata": {},
   "source": [
    "# Two- Sample\n",
    "\n",
    "Question:-\n",
    "A company claims that children who drink their healthdrink will grow taller than the children who do not drink that health drink. Data in the file healthdrink.xlsxshws average increase in height over one-year period from two groups: one drinking the health drink and the other not drinking the heallth drink. At alpha=0.05, test wether the  increases in height for the child who drink the health drink is different than those who do not drink health drink."
   ]
  },
  {
   "cell_type": "code",
   "execution_count": 14,
   "id": "6cbf70cd-7e48-40d3-a23c-3dfb988d4f1e",
   "metadata": {},
   "outputs": [
    {
     "data": {
      "text/plain": [
       "TtestResult(statistic=8.131675069083359, pvalue=1.197698592263946e-13, df=157.0)"
      ]
     },
     "execution_count": 14,
     "metadata": {},
     "output_type": "execute_result"
    }
   ],
   "source": [
    "import pandas as pd\n",
    "healthdrink_yes_df = pd.read_excel(\"healthdrink.xlsx\",\"healthdrink_yes\")\n",
    "healthdrink_no_df = pd.read_excel(\"healthdrink.xlsx\",\"healthdrink_no\")\n",
    "\n",
    "from scipy import stats\n",
    "stats.ttest_ind(healthdrink_yes_df[\"height_increase\"],healthdrink_no_df[\"height_increase\"]) "
   ]
  },
  {
   "cell_type": "markdown",
   "id": "6fbbc2cd-9928-47f7-94ec-3764fad4f3ad",
   "metadata": {},
   "source": [
    "#Paired- Sample\n",
    "\n",
    "Question:-\n",
    "The file breakup.csv contains alcohol consumption before and after breakup. Conduct a paired t-test to check whether the alchole consumption is same after the breakup at 95% confidence (alpha=0.05)"
   ]
  },
  {
   "cell_type": "code",
   "execution_count": 18,
   "id": "f40b31ee-369d-4300-9e4e-de72bd08b5d9",
   "metadata": {},
   "outputs": [
    {
     "data": {
      "text/plain": [
       "TtestResult(statistic=-0.5375404241815106, pvalue=0.5971346738292477, df=19)"
      ]
     },
     "execution_count": 18,
     "metadata": {},
     "output_type": "execute_result"
    }
   ],
   "source": [
    "import pandas as pd\n",
    "import seaborn as sn\n",
    "import matplotlib.pyplot as plt\n",
    "breakups_df = pd.read_csv(\"breakups.csv\")\n",
    "breakups_df.head(5)\n",
    "\n",
    "from scipy import stats \n",
    "stats.ttest_rel(breakups_df[\"Before_Breakup\"],breakups_df[\"After_Breakup\"])\n"
   ]
  },
  {
   "cell_type": "code",
   "execution_count": 19,
   "id": "cbd903b8-b67e-4edd-bf37-6453b7b5037e",
   "metadata": {},
   "outputs": [
    {
     "name": "stderr",
     "output_type": "stream",
     "text": [
      "C:\\Users\\HP\\AppData\\Local\\Temp\\ipykernel_8176\\90352350.py:1: UserWarning: \n",
      "\n",
      "`distplot` is a deprecated function and will be removed in seaborn v0.14.0.\n",
      "\n",
      "Please adapt your code to use either `displot` (a figure-level function with\n",
      "similar flexibility) or `histplot` (an axes-level function for histograms).\n",
      "\n",
      "For a guide to updating your code to use the new functions, please see\n",
      "https://gist.github.com/mwaskom/de44147ed2974457ad6372750bbe5751\n",
      "\n",
      "  sn.distplot(breakups_df.Before_Breakup,label='Before Brerakups')\n",
      "C:\\Users\\HP\\anaconda3\\Lib\\site-packages\\seaborn\\_oldcore.py:1119: FutureWarning: use_inf_as_na option is deprecated and will be removed in a future version. Convert inf values to NaN before operating instead.\n",
      "  with pd.option_context('mode.use_inf_as_na', True):\n",
      "C:\\Users\\HP\\AppData\\Local\\Temp\\ipykernel_8176\\90352350.py:2: UserWarning: \n",
      "\n",
      "`distplot` is a deprecated function and will be removed in seaborn v0.14.0.\n",
      "\n",
      "Please adapt your code to use either `displot` (a figure-level function with\n",
      "similar flexibility) or `histplot` (an axes-level function for histograms).\n",
      "\n",
      "For a guide to updating your code to use the new functions, please see\n",
      "https://gist.github.com/mwaskom/de44147ed2974457ad6372750bbe5751\n",
      "\n",
      "  sn.distplot(breakups_df.After_Breakup,label='After Breakups')\n",
      "C:\\Users\\HP\\anaconda3\\Lib\\site-packages\\seaborn\\_oldcore.py:1119: FutureWarning: use_inf_as_na option is deprecated and will be removed in a future version. Convert inf values to NaN before operating instead.\n",
      "  with pd.option_context('mode.use_inf_as_na', True):\n"
     ]
    },
    {
     "data": {
      "text/plain": [
       "<matplotlib.legend.Legend at 0x1b32a751d90>"
      ]
     },
     "execution_count": 19,
     "metadata": {},
     "output_type": "execute_result"
    },
    {
     "data": {
      "image/png": "[encoded data removed]",
      "text/plain": [
       "<Figure size 640x480 with 1 Axes>"
      ]
     },
     "metadata": {},
     "output_type": "display_data"
    }
   ],
   "source": [
    "sn.distplot(breakups_df.Before_Breakup,label='Before Brerakups')\n",
    "sn.distplot(breakups_df.After_Breakup,label='After Breakups')\n",
    "plt.legend()"
   ]
  },
  {
   "cell_type": "markdown",
   "id": "9edb9823-c78d-4ef9-bb62-ea3a993f3c35",
   "metadata": {},
   "source": [
    "#ANOVA TEST\n",
    "\n",
    "Question:-\n",
    "Ms Rachael Khanna the brnd manger of ENZO detergent powder at the \"one-stop\" retail was interested in understanding wether the price discount have any impact on the sales quantity of ENZO.To test weather the price discount had any impact, price discount of 0%, 10%, and 20% were given on randomly selected days. The quantity of ENZO sold in aday under different discount levels is shown in 'onestop.csv'file. Conduct a way ANOVA to check weather discount hasd any significant impact on the average sales quantity at alpha=0.05."
   ]
  },
  {
   "cell_type": "code",
   "execution_count": 20,
   "id": "879a38ad-7a99-4de5-bb88-765d82649c36",
   "metadata": {},
   "outputs": [
    {
     "data": {
      "text/plain": [
       "F_onewayResult(statistic=65.86986401283694, pvalue=3.821500669725641e-18)"
      ]
     },
     "execution_count": 20,
     "metadata": {},
     "output_type": "execute_result"
    }
   ],
   "source": [
    "import pandas as pd\n",
    "onestop_df = pd.read_csv(\"onestop.csv\")\n",
    "\n",
    "from scipy.stats import f_oneway\n",
    "f_oneway(onestop_df[\"discount_0\"],\n",
    "         onestop_df[\"discount_10\"],\n",
    "         onestop_df[\"discount_20\"])\n"
   ]
  },
  {
   "cell_type": "code",
   "execution_count": null,
   "id": "2eb80eac-3fb2-414a-81e6-bf661c9b002f",
   "metadata": {},
   "outputs": [],
   "source": []
  }
 ],
 "metadata": {
  "kernelspec": {
   "display_name": "Python 3 (ipykernel)",
   "language": "python",
   "name": "python3"
  },
  "language_info": {
   "codemirror_mode": {
    "name": "ipython",
    "version": 3
   },
   "file_extension": ".py",
   "mimetype": "text/x-python",
   "name": "python",
   "nbconvert_exporter": "python",
   "pygments_lexer": "ipython3",
   "version": "3.11.7"
  }
 },
 "nbformat": 4,
 "nbformat_minor": 5
}
