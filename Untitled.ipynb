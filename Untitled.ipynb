{
 "cells": [
  {
   "cell_type": "markdown",
   "id": "865d50b3-0dcc-4b99-8020-424adc5b4996",
   "metadata": {},
   "source": [
    "Type of Data\n",
    "1) Categorical Data\n",
    "    -binary\n",
    "    -nominal (ex:-color,gender,material)\n",
    "    -ordinal \n",
    "2) Quantative Data\n",
    "    -discrete\n",
    "    -continuous\n",
    "\n"
   ]
  },
  {
   "cell_type": "markdown",
   "id": "658d9d94-b143-46e9-8860-56c75e9f3388",
   "metadata": {},
   "source": [
    "Descriptive Statistics :- 1)measures of central tendency (mean,median and mode) \n",
    "                          2)measures of variability(variance,standsrd deviation, minimum/ maximum values,\n",
    "                          3)IQR(Interquartile Range),\n",
    "                          4)skewness and kurtosis)\n",
    "                          "
   ]
  },
  {
   "cell_type": "markdown",
   "id": "dc52d7a5-0b4f-4d20-b092-e2941e320b1c",
   "metadata": {},
   "source": [
    "1.import libraries"
   ]
  },
  {
   "cell_type": "code",
   "execution_count": 4,
   "id": "b50860ff-ce9e-45b6-afb0-a5c3453532ba",
   "metadata": {},
   "outputs": [],
   "source": [
    "import pandas as pd\n",
    "import numpy as np\n",
    "import matplotlib.pyplot as plt\n",
    "import seaborn as sn\n",
    "%matplotlib inline     \n",
    "#----> this line is to display the plot with out calling the plt.show() \n",
    "\n"
   ]
  },
  {
   "cell_type": "markdown",
   "id": "64e76179-dfeb-405f-8036-d7496ba6d84d",
   "metadata": {},
   "source": [
    "2.ignore warnings"
   ]
  },
  {
   "cell_type": "code",
   "execution_count": 5,
   "id": "4b646eab-74d5-4cf7-ab56-3a41cdc06bfa",
   "metadata": {},
   "outputs": [],
   "source": [
    "import warnings \n",
    "warnings.filterwarnings('ignore')\n"
   ]
  },
  {
   "cell_type": "markdown",
   "id": "e701c7de-5127-4666-80cf-06cd88fc7ad5",
   "metadata": {},
   "source": [
    "3.import dataset"
   ]
  },
  {
   "cell_type": "code",
   "execution_count": 5,
   "id": "ea1cc1b2-9c0f-46d8-aebe-c55128078814",
   "metadata": {},
   "outputs": [
    {
     "data": {
      "text/html": [
       "<div>\n",
       "<style scoped>\n",
       "    .dataframe tbody tr th:only-of-type {\n",
       "        vertical-align: middle;\n",
       "    }\n",
       "\n",
       "    .dataframe tbody tr th {\n",
       "        vertical-align: top;\n",
       "    }\n",
       "\n",
       "    .dataframe thead th {\n",
       "        text-align: right;\n",
       "    }\n",
       "</style>\n",
       "<table border=\"1\" class=\"dataframe\">\n",
       "  <thead>\n",
       "    <tr style=\"text-align: right;\">\n",
       "      <th></th>\n",
       "      <th>id</th>\n",
       "      <th>rank</th>\n",
       "      <th>name</th>\n",
       "      <th>employees</th>\n",
       "      <th>previousrank</th>\n",
       "      <th>revenues</th>\n",
       "      <th>revenuechange</th>\n",
       "      <th>profits</th>\n",
       "      <th>profitschange</th>\n",
       "      <th>assets</th>\n",
       "      <th>marketvalue</th>\n",
       "    </tr>\n",
       "  </thead>\n",
       "  <tbody>\n",
       "    <tr>\n",
       "      <th>0</th>\n",
       "      <td>2</td>\n",
       "      <td>1</td>\n",
       "      <td>Walmart</td>\n",
       "      <td>2300000</td>\n",
       "      <td>1.0</td>\n",
       "      <td>485873.0</td>\n",
       "      <td>0.008</td>\n",
       "      <td>13643.0</td>\n",
       "      <td>-0.072</td>\n",
       "      <td>198825.0</td>\n",
       "      <td>218619.0</td>\n",
       "    </tr>\n",
       "    <tr>\n",
       "      <th>1</th>\n",
       "      <td>3</td>\n",
       "      <td>2</td>\n",
       "      <td>Berkshire Hathaway</td>\n",
       "      <td>367700</td>\n",
       "      <td>4.0</td>\n",
       "      <td>223604.0</td>\n",
       "      <td>0.061</td>\n",
       "      <td>24074.0</td>\n",
       "      <td>0.000</td>\n",
       "      <td>620854.0</td>\n",
       "      <td>411035.0</td>\n",
       "    </tr>\n",
       "    <tr>\n",
       "      <th>2</th>\n",
       "      <td>4</td>\n",
       "      <td>3</td>\n",
       "      <td>Apple</td>\n",
       "      <td>116000</td>\n",
       "      <td>3.0</td>\n",
       "      <td>215639.0</td>\n",
       "      <td>-0.077</td>\n",
       "      <td>45687.0</td>\n",
       "      <td>-0.144</td>\n",
       "      <td>321686.0</td>\n",
       "      <td>753718.0</td>\n",
       "    </tr>\n",
       "    <tr>\n",
       "      <th>3</th>\n",
       "      <td>5</td>\n",
       "      <td>4</td>\n",
       "      <td>Exxon Mobil</td>\n",
       "      <td>72700</td>\n",
       "      <td>2.0</td>\n",
       "      <td>205004.0</td>\n",
       "      <td>-0.167</td>\n",
       "      <td>7840.0</td>\n",
       "      <td>-0.515</td>\n",
       "      <td>330314.0</td>\n",
       "      <td>340056.0</td>\n",
       "    </tr>\n",
       "    <tr>\n",
       "      <th>4</th>\n",
       "      <td>6</td>\n",
       "      <td>5</td>\n",
       "      <td>McKesson</td>\n",
       "      <td>68000</td>\n",
       "      <td>5.0</td>\n",
       "      <td>192487.0</td>\n",
       "      <td>0.062</td>\n",
       "      <td>2258.0</td>\n",
       "      <td>0.530</td>\n",
       "      <td>56563.0</td>\n",
       "      <td>31439.0</td>\n",
       "    </tr>\n",
       "  </tbody>\n",
       "</table>\n",
       "</div>"
      ],
      "text/plain": [
       "   id  rank                name  employees  previousrank  revenues  \\\n",
       "0   2     1             Walmart    2300000           1.0  485873.0   \n",
       "1   3     2  Berkshire Hathaway     367700           4.0  223604.0   \n",
       "2   4     3               Apple     116000           3.0  215639.0   \n",
       "3   5     4         Exxon Mobil      72700           2.0  205004.0   \n",
       "4   6     5            McKesson      68000           5.0  192487.0   \n",
       "\n",
       "   revenuechange  profits  profitschange    assets  marketvalue  \n",
       "0          0.008  13643.0         -0.072  198825.0     218619.0  \n",
       "1          0.061  24074.0          0.000  620854.0     411035.0  \n",
       "2         -0.077  45687.0         -0.144  321686.0     753718.0  \n",
       "3         -0.167   7840.0         -0.515  330314.0     340056.0  \n",
       "4          0.062   2258.0          0.530   56563.0      31439.0  "
      ]
     },
     "execution_count": 5,
     "metadata": {},
     "output_type": "execute_result"
    }
   ],
   "source": [
    "F500_df=pd.read_csv('fortune-500-QueryResult.csv')\n",
    "# print(df)\n",
    "# print(list(df))\n",
    "F500_df.shape\n",
    "F500_df.head()"
   ]
  },
  {
   "cell_type": "markdown",
   "id": "ca5f813d-a491-4b31-9c1d-07ab8af86061",
   "metadata": {},
   "source": [
    "view summary of dataset"
   ]
  },
  {
   "cell_type": "code",
   "execution_count": 12,
   "id": "1ecd779d-79e5-4241-af43-f2ea961981ba",
   "metadata": {},
   "outputs": [
    {
     "name": "stdout",
     "output_type": "stream",
     "text": [
      "<class 'pandas.core.frame.DataFrame'>\n",
      "RangeIndex: 500 entries, 0 to 499\n",
      "Data columns (total 11 columns):\n",
      " #   Column         Non-Null Count  Dtype  \n",
      "---  ------         --------------  -----  \n",
      " 0   id             500 non-null    int64  \n",
      " 1   rank           500 non-null    int64  \n",
      " 2   name           500 non-null    object \n",
      " 3   employees      500 non-null    int64  \n",
      " 4   previousrank   492 non-null    float64\n",
      " 5   revenues       500 non-null    float64\n",
      " 6   revenuechange  494 non-null    float64\n",
      " 7   profits        499 non-null    float64\n",
      " 8   profitschange  434 non-null    float64\n",
      " 9   assets         500 non-null    float64\n",
      " 10  marketvalue    470 non-null    float64\n",
      "dtypes: float64(7), int64(3), object(1)\n",
      "memory usage: 43.1+ KB\n"
     ]
    }
   ],
   "source": [
    "F500_df.info()"
   ]
  },
  {
   "cell_type": "markdown",
   "id": "39f7d753-7855-4f7c-8308-aa5903a63eb3",
   "metadata": {},
   "source": [
    "Check for missing values"
   ]
  },
  {
   "cell_type": "code",
   "execution_count": 13,
   "id": "bcdb5d42-ca82-4149-9d1e-b1c30f845c56",
   "metadata": {},
   "outputs": [
    {
     "data": {
      "text/plain": [
       "id                0\n",
       "rank              0\n",
       "name              0\n",
       "employees         0\n",
       "previousrank      8\n",
       "revenues          0\n",
       "revenuechange     6\n",
       "profits           1\n",
       "profitschange    66\n",
       "assets            0\n",
       "marketvalue      30\n",
       "dtype: int64"
      ]
     },
     "execution_count": 13,
     "metadata": {},
     "output_type": "execute_result"
    }
   ],
   "source": [
    "F500_df.isnull().sum()"
   ]
  },
  {
   "cell_type": "markdown",
   "id": "9b1c6127-71fa-49f7-8516-b8543ae4cf31",
   "metadata": {},
   "source": [
    "Descriptive Statistics of numerical columns"
   ]
  },
  {
   "cell_type": "code",
   "execution_count": 16,
   "id": "19cdb6fc-c4de-4247-82d4-efdb956d5b39",
   "metadata": {},
   "outputs": [
    {
     "data": {
      "text/html": [
       "<div>\n",
       "<style scoped>\n",
       "    .dataframe tbody tr th:only-of-type {\n",
       "        vertical-align: middle;\n",
       "    }\n",
       "\n",
       "    .dataframe tbody tr th {\n",
       "        vertical-align: top;\n",
       "    }\n",
       "\n",
       "    .dataframe thead th {\n",
       "        text-align: right;\n",
       "    }\n",
       "</style>\n",
       "<table border=\"1\" class=\"dataframe\">\n",
       "  <thead>\n",
       "    <tr style=\"text-align: right;\">\n",
       "      <th></th>\n",
       "      <th>id</th>\n",
       "      <th>rank</th>\n",
       "      <th>employees</th>\n",
       "      <th>previousrank</th>\n",
       "      <th>revenues</th>\n",
       "      <th>revenuechange</th>\n",
       "      <th>profits</th>\n",
       "      <th>profitschange</th>\n",
       "      <th>assets</th>\n",
       "      <th>marketvalue</th>\n",
       "    </tr>\n",
       "  </thead>\n",
       "  <tbody>\n",
       "    <tr>\n",
       "      <th>count</th>\n",
       "      <td>500.000000</td>\n",
       "      <td>500.000000</td>\n",
       "      <td>5.000000e+02</td>\n",
       "      <td>492.000000</td>\n",
       "      <td>500.000000</td>\n",
       "      <td>494.000000</td>\n",
       "      <td>499.000000</td>\n",
       "      <td>434.000000</td>\n",
       "      <td>5.000000e+02</td>\n",
       "      <td>470.000000</td>\n",
       "    </tr>\n",
       "    <tr>\n",
       "      <th>mean</th>\n",
       "      <td>251.500000</td>\n",
       "      <td>250.500000</td>\n",
       "      <td>5.695553e+04</td>\n",
       "      <td>257.111789</td>\n",
       "      <td>24111.748000</td>\n",
       "      <td>0.037470</td>\n",
       "      <td>1783.475351</td>\n",
       "      <td>-0.002251</td>\n",
       "      <td>8.038934e+04</td>\n",
       "      <td>41322.397872</td>\n",
       "    </tr>\n",
       "    <tr>\n",
       "      <th>std</th>\n",
       "      <td>144.481833</td>\n",
       "      <td>144.481833</td>\n",
       "      <td>1.236223e+05</td>\n",
       "      <td>154.048098</td>\n",
       "      <td>38337.353337</td>\n",
       "      <td>0.200871</td>\n",
       "      <td>3940.495363</td>\n",
       "      <td>1.185819</td>\n",
       "      <td>2.704257e+05</td>\n",
       "      <td>75614.010678</td>\n",
       "    </tr>\n",
       "    <tr>\n",
       "      <th>min</th>\n",
       "      <td>2.000000</td>\n",
       "      <td>1.000000</td>\n",
       "      <td>1.326000e+03</td>\n",
       "      <td>1.000000</td>\n",
       "      <td>5145.000000</td>\n",
       "      <td>-0.575000</td>\n",
       "      <td>-6177.000000</td>\n",
       "      <td>-8.923000</td>\n",
       "      <td>4.370000e+02</td>\n",
       "      <td>120.000000</td>\n",
       "    </tr>\n",
       "    <tr>\n",
       "      <th>25%</th>\n",
       "      <td>126.750000</td>\n",
       "      <td>125.750000</td>\n",
       "      <td>1.212525e+04</td>\n",
       "      <td>127.750000</td>\n",
       "      <td>7245.000000</td>\n",
       "      <td>-0.039750</td>\n",
       "      <td>238.600000</td>\n",
       "      <td>-0.185000</td>\n",
       "      <td>8.436500e+03</td>\n",
       "      <td>6996.000000</td>\n",
       "    </tr>\n",
       "    <tr>\n",
       "      <th>50%</th>\n",
       "      <td>251.500000</td>\n",
       "      <td>250.500000</td>\n",
       "      <td>2.560000e+04</td>\n",
       "      <td>251.500000</td>\n",
       "      <td>11384.000000</td>\n",
       "      <td>0.019000</td>\n",
       "      <td>687.200000</td>\n",
       "      <td>0.022500</td>\n",
       "      <td>1.932450e+04</td>\n",
       "      <td>17696.000000</td>\n",
       "    </tr>\n",
       "    <tr>\n",
       "      <th>75%</th>\n",
       "      <td>376.250000</td>\n",
       "      <td>375.250000</td>\n",
       "      <td>5.762500e+04</td>\n",
       "      <td>379.250000</td>\n",
       "      <td>22605.250000</td>\n",
       "      <td>0.073750</td>\n",
       "      <td>1773.550000</td>\n",
       "      <td>0.208500</td>\n",
       "      <td>4.812600e+04</td>\n",
       "      <td>41767.500000</td>\n",
       "    </tr>\n",
       "    <tr>\n",
       "      <th>max</th>\n",
       "      <td>501.000000</td>\n",
       "      <td>500.000000</td>\n",
       "      <td>2.300000e+06</td>\n",
       "      <td>761.000000</td>\n",
       "      <td>485873.000000</td>\n",
       "      <td>1.973000</td>\n",
       "      <td>45687.000000</td>\n",
       "      <td>9.625000</td>\n",
       "      <td>3.287968e+06</td>\n",
       "      <td>753718.000000</td>\n",
       "    </tr>\n",
       "  </tbody>\n",
       "</table>\n",
       "</div>"
      ],
      "text/plain": [
       "               id        rank     employees  previousrank       revenues  \\\n",
       "count  500.000000  500.000000  5.000000e+02    492.000000     500.000000   \n",
       "mean   251.500000  250.500000  5.695553e+04    257.111789   24111.748000   \n",
       "std    144.481833  144.481833  1.236223e+05    154.048098   38337.353337   \n",
       "min      2.000000    1.000000  1.326000e+03      1.000000    5145.000000   \n",
       "25%    126.750000  125.750000  1.212525e+04    127.750000    7245.000000   \n",
       "50%    251.500000  250.500000  2.560000e+04    251.500000   11384.000000   \n",
       "75%    376.250000  375.250000  5.762500e+04    379.250000   22605.250000   \n",
       "max    501.000000  500.000000  2.300000e+06    761.000000  485873.000000   \n",
       "\n",
       "       revenuechange       profits  profitschange        assets    marketvalue  \n",
       "count     494.000000    499.000000     434.000000  5.000000e+02     470.000000  \n",
       "mean        0.037470   1783.475351      -0.002251  8.038934e+04   41322.397872  \n",
       "std         0.200871   3940.495363       1.185819  2.704257e+05   75614.010678  \n",
       "min        -0.575000  -6177.000000      -8.923000  4.370000e+02     120.000000  \n",
       "25%        -0.039750    238.600000      -0.185000  8.436500e+03    6996.000000  \n",
       "50%         0.019000    687.200000       0.022500  1.932450e+04   17696.000000  \n",
       "75%         0.073750   1773.550000       0.208500  4.812600e+04   41767.500000  \n",
       "max         1.973000  45687.000000       9.625000  3.287968e+06  753718.000000  "
      ]
     },
     "execution_count": 16,
     "metadata": {},
     "output_type": "execute_result"
    }
   ],
   "source": [
    "F500_df.describe()"
   ]
  },
  {
   "cell_type": "markdown",
   "id": "e6afc918-8a83-46d8-b717-fdf955c16184",
   "metadata": {},
   "source": [
    "Descriptive Statistics of character columns"
   ]
  },
  {
   "cell_type": "code",
   "execution_count": 17,
   "id": "c59d9b8b-ebc8-4a08-a170-5da45e0511e3",
   "metadata": {},
   "outputs": [
    {
     "data": {
      "text/html": [
       "<div>\n",
       "<style scoped>\n",
       "    .dataframe tbody tr th:only-of-type {\n",
       "        vertical-align: middle;\n",
       "    }\n",
       "\n",
       "    .dataframe tbody tr th {\n",
       "        vertical-align: top;\n",
       "    }\n",
       "\n",
       "    .dataframe thead th {\n",
       "        text-align: right;\n",
       "    }\n",
       "</style>\n",
       "<table border=\"1\" class=\"dataframe\">\n",
       "  <thead>\n",
       "    <tr style=\"text-align: right;\">\n",
       "      <th></th>\n",
       "      <th>name</th>\n",
       "    </tr>\n",
       "  </thead>\n",
       "  <tbody>\n",
       "    <tr>\n",
       "      <th>count</th>\n",
       "      <td>500</td>\n",
       "    </tr>\n",
       "    <tr>\n",
       "      <th>unique</th>\n",
       "      <td>500</td>\n",
       "    </tr>\n",
       "    <tr>\n",
       "      <th>top</th>\n",
       "      <td>Walmart</td>\n",
       "    </tr>\n",
       "    <tr>\n",
       "      <th>freq</th>\n",
       "      <td>1</td>\n",
       "    </tr>\n",
       "  </tbody>\n",
       "</table>\n",
       "</div>"
      ],
      "text/plain": [
       "           name\n",
       "count       500\n",
       "unique      500\n",
       "top     Walmart\n",
       "freq          1"
      ]
     },
     "execution_count": 17,
     "metadata": {},
     "output_type": "execute_result"
    }
   ],
   "source": [
    "F500_df.describe(include=['object'])"
   ]
  },
  {
   "cell_type": "code",
   "execution_count": null,
   "id": "d5f3e421-0db1-49a6-b8f6-1c26f6441f3b",
   "metadata": {},
   "outputs": [],
   "source": [
    "Descriptive Statistics of all the columns"
   ]
  },
  {
   "cell_type": "code",
   "execution_count": 18,
   "id": "f3d44295-6f62-40de-8ceb-7af13595ac5d",
   "metadata": {},
   "outputs": [
    {
     "data": {
      "text/html": [
       "<div>\n",
       "<style scoped>\n",
       "    .dataframe tbody tr th:only-of-type {\n",
       "        vertical-align: middle;\n",
       "    }\n",
       "\n",
       "    .dataframe tbody tr th {\n",
       "        vertical-align: top;\n",
       "    }\n",
       "\n",
       "    .dataframe thead th {\n",
       "        text-align: right;\n",
       "    }\n",
       "</style>\n",
       "<table border=\"1\" class=\"dataframe\">\n",
       "  <thead>\n",
       "    <tr style=\"text-align: right;\">\n",
       "      <th></th>\n",
       "      <th>id</th>\n",
       "      <th>rank</th>\n",
       "      <th>name</th>\n",
       "      <th>employees</th>\n",
       "      <th>previousrank</th>\n",
       "      <th>revenues</th>\n",
       "      <th>revenuechange</th>\n",
       "      <th>profits</th>\n",
       "      <th>profitschange</th>\n",
       "      <th>assets</th>\n",
       "      <th>marketvalue</th>\n",
       "    </tr>\n",
       "  </thead>\n",
       "  <tbody>\n",
       "    <tr>\n",
       "      <th>count</th>\n",
       "      <td>500.000000</td>\n",
       "      <td>500.000000</td>\n",
       "      <td>500</td>\n",
       "      <td>5.000000e+02</td>\n",
       "      <td>492.000000</td>\n",
       "      <td>500.000000</td>\n",
       "      <td>494.000000</td>\n",
       "      <td>499.000000</td>\n",
       "      <td>434.000000</td>\n",
       "      <td>5.000000e+02</td>\n",
       "      <td>470.000000</td>\n",
       "    </tr>\n",
       "    <tr>\n",
       "      <th>unique</th>\n",
       "      <td>NaN</td>\n",
       "      <td>NaN</td>\n",
       "      <td>500</td>\n",
       "      <td>NaN</td>\n",
       "      <td>NaN</td>\n",
       "      <td>NaN</td>\n",
       "      <td>NaN</td>\n",
       "      <td>NaN</td>\n",
       "      <td>NaN</td>\n",
       "      <td>NaN</td>\n",
       "      <td>NaN</td>\n",
       "    </tr>\n",
       "    <tr>\n",
       "      <th>top</th>\n",
       "      <td>NaN</td>\n",
       "      <td>NaN</td>\n",
       "      <td>Walmart</td>\n",
       "      <td>NaN</td>\n",
       "      <td>NaN</td>\n",
       "      <td>NaN</td>\n",
       "      <td>NaN</td>\n",
       "      <td>NaN</td>\n",
       "      <td>NaN</td>\n",
       "      <td>NaN</td>\n",
       "      <td>NaN</td>\n",
       "    </tr>\n",
       "    <tr>\n",
       "      <th>freq</th>\n",
       "      <td>NaN</td>\n",
       "      <td>NaN</td>\n",
       "      <td>1</td>\n",
       "      <td>NaN</td>\n",
       "      <td>NaN</td>\n",
       "      <td>NaN</td>\n",
       "      <td>NaN</td>\n",
       "      <td>NaN</td>\n",
       "      <td>NaN</td>\n",
       "      <td>NaN</td>\n",
       "      <td>NaN</td>\n",
       "    </tr>\n",
       "    <tr>\n",
       "      <th>mean</th>\n",
       "      <td>251.500000</td>\n",
       "      <td>250.500000</td>\n",
       "      <td>NaN</td>\n",
       "      <td>5.695553e+04</td>\n",
       "      <td>257.111789</td>\n",
       "      <td>24111.748000</td>\n",
       "      <td>0.037470</td>\n",
       "      <td>1783.475351</td>\n",
       "      <td>-0.002251</td>\n",
       "      <td>8.038934e+04</td>\n",
       "      <td>41322.397872</td>\n",
       "    </tr>\n",
       "    <tr>\n",
       "      <th>std</th>\n",
       "      <td>144.481833</td>\n",
       "      <td>144.481833</td>\n",
       "      <td>NaN</td>\n",
       "      <td>1.236223e+05</td>\n",
       "      <td>154.048098</td>\n",
       "      <td>38337.353337</td>\n",
       "      <td>0.200871</td>\n",
       "      <td>3940.495363</td>\n",
       "      <td>1.185819</td>\n",
       "      <td>2.704257e+05</td>\n",
       "      <td>75614.010678</td>\n",
       "    </tr>\n",
       "    <tr>\n",
       "      <th>min</th>\n",
       "      <td>2.000000</td>\n",
       "      <td>1.000000</td>\n",
       "      <td>NaN</td>\n",
       "      <td>1.326000e+03</td>\n",
       "      <td>1.000000</td>\n",
       "      <td>5145.000000</td>\n",
       "      <td>-0.575000</td>\n",
       "      <td>-6177.000000</td>\n",
       "      <td>-8.923000</td>\n",
       "      <td>4.370000e+02</td>\n",
       "      <td>120.000000</td>\n",
       "    </tr>\n",
       "    <tr>\n",
       "      <th>25%</th>\n",
       "      <td>126.750000</td>\n",
       "      <td>125.750000</td>\n",
       "      <td>NaN</td>\n",
       "      <td>1.212525e+04</td>\n",
       "      <td>127.750000</td>\n",
       "      <td>7245.000000</td>\n",
       "      <td>-0.039750</td>\n",
       "      <td>238.600000</td>\n",
       "      <td>-0.185000</td>\n",
       "      <td>8.436500e+03</td>\n",
       "      <td>6996.000000</td>\n",
       "    </tr>\n",
       "    <tr>\n",
       "      <th>50%</th>\n",
       "      <td>251.500000</td>\n",
       "      <td>250.500000</td>\n",
       "      <td>NaN</td>\n",
       "      <td>2.560000e+04</td>\n",
       "      <td>251.500000</td>\n",
       "      <td>11384.000000</td>\n",
       "      <td>0.019000</td>\n",
       "      <td>687.200000</td>\n",
       "      <td>0.022500</td>\n",
       "      <td>1.932450e+04</td>\n",
       "      <td>17696.000000</td>\n",
       "    </tr>\n",
       "    <tr>\n",
       "      <th>75%</th>\n",
       "      <td>376.250000</td>\n",
       "      <td>375.250000</td>\n",
       "      <td>NaN</td>\n",
       "      <td>5.762500e+04</td>\n",
       "      <td>379.250000</td>\n",
       "      <td>22605.250000</td>\n",
       "      <td>0.073750</td>\n",
       "      <td>1773.550000</td>\n",
       "      <td>0.208500</td>\n",
       "      <td>4.812600e+04</td>\n",
       "      <td>41767.500000</td>\n",
       "    </tr>\n",
       "    <tr>\n",
       "      <th>max</th>\n",
       "      <td>501.000000</td>\n",
       "      <td>500.000000</td>\n",
       "      <td>NaN</td>\n",
       "      <td>2.300000e+06</td>\n",
       "      <td>761.000000</td>\n",
       "      <td>485873.000000</td>\n",
       "      <td>1.973000</td>\n",
       "      <td>45687.000000</td>\n",
       "      <td>9.625000</td>\n",
       "      <td>3.287968e+06</td>\n",
       "      <td>753718.000000</td>\n",
       "    </tr>\n",
       "  </tbody>\n",
       "</table>\n",
       "</div>"
      ],
      "text/plain": [
       "                id        rank     name     employees  previousrank  \\\n",
       "count   500.000000  500.000000      500  5.000000e+02    492.000000   \n",
       "unique         NaN         NaN      500           NaN           NaN   \n",
       "top            NaN         NaN  Walmart           NaN           NaN   \n",
       "freq           NaN         NaN        1           NaN           NaN   \n",
       "mean    251.500000  250.500000      NaN  5.695553e+04    257.111789   \n",
       "std     144.481833  144.481833      NaN  1.236223e+05    154.048098   \n",
       "min       2.000000    1.000000      NaN  1.326000e+03      1.000000   \n",
       "25%     126.750000  125.750000      NaN  1.212525e+04    127.750000   \n",
       "50%     251.500000  250.500000      NaN  2.560000e+04    251.500000   \n",
       "75%     376.250000  375.250000      NaN  5.762500e+04    379.250000   \n",
       "max     501.000000  500.000000      NaN  2.300000e+06    761.000000   \n",
       "\n",
       "             revenues  revenuechange       profits  profitschange  \\\n",
       "count      500.000000     494.000000    499.000000     434.000000   \n",
       "unique            NaN            NaN           NaN            NaN   \n",
       "top               NaN            NaN           NaN            NaN   \n",
       "freq              NaN            NaN           NaN            NaN   \n",
       "mean     24111.748000       0.037470   1783.475351      -0.002251   \n",
       "std      38337.353337       0.200871   3940.495363       1.185819   \n",
       "min       5145.000000      -0.575000  -6177.000000      -8.923000   \n",
       "25%       7245.000000      -0.039750    238.600000      -0.185000   \n",
       "50%      11384.000000       0.019000    687.200000       0.022500   \n",
       "75%      22605.250000       0.073750   1773.550000       0.208500   \n",
       "max     485873.000000       1.973000  45687.000000       9.625000   \n",
       "\n",
       "              assets    marketvalue  \n",
       "count   5.000000e+02     470.000000  \n",
       "unique           NaN            NaN  \n",
       "top              NaN            NaN  \n",
       "freq             NaN            NaN  \n",
       "mean    8.038934e+04   41322.397872  \n",
       "std     2.704257e+05   75614.010678  \n",
       "min     4.370000e+02     120.000000  \n",
       "25%     8.436500e+03    6996.000000  \n",
       "50%     1.932450e+04   17696.000000  \n",
       "75%     4.812600e+04   41767.500000  \n",
       "max     3.287968e+06  753718.000000  "
      ]
     },
     "execution_count": 18,
     "metadata": {},
     "output_type": "execute_result"
    }
   ],
   "source": [
    "F500_df.describe(include='all')"
   ]
  },
  {
   "cell_type": "markdown",
   "id": "aa6c3603-6c3e-4fd9-8777-8129bd6965f5",
   "metadata": {},
   "source": [
    "Computation of measure of central tendency\n",
    "-mean\n",
    "-median\n",
    "-mode\n",
    "\n",
    "as in below mean>median>mode. So, the distribution of revenue is positively skewed."
   ]
  },
  {
   "cell_type": "code",
   "execution_count": 20,
   "id": "50f0851e-d0a1-43c0-946e-9c759c721c0d",
   "metadata": {},
   "outputs": [
    {
     "name": "stdout",
     "output_type": "stream",
     "text": [
      "Mean of the revenues column 24111.748\n"
     ]
    }
   ],
   "source": [
    "mean=F500_df['revenues'].mean()\n",
    "print(\"Mean of the revenues column:\",mean)"
   ]
  },
  {
   "cell_type": "code",
   "execution_count": 21,
   "id": "05f6d803-9f16-45bc-bd0d-441598c7d7b4",
   "metadata": {},
   "outputs": [
    {
     "name": "stdout",
     "output_type": "stream",
     "text": [
      "11384.0\n"
     ]
    }
   ],
   "source": [
    "median=F500_df['revenues'].median()\n",
    "print(\"Median of the revenues column:\",median)"
   ]
  },
  {
   "cell_type": "code",
   "execution_count": 22,
   "id": "20051607-acbe-40a9-94da-5b8b7e878204",
   "metadata": {},
   "outputs": [
    {
     "name": "stdout",
     "output_type": "stream",
     "text": [
      "Median of the revenues column: 0    9061.0\n",
      "Name: revenues, dtype: float64\n"
     ]
    }
   ],
   "source": [
    "mode=F500_df['revenues'].mode()\n",
    "print(\"Mode of the revenues column:\",mode)"
   ]
  },
  {
   "cell_type": "markdown",
   "id": "a92cde8c-ae9b-47d5-8a57-5036004c58c2",
   "metadata": {},
   "source": [
    "Computiation of measures of dispersion or variablity\n",
    "-minimum and maximum values\n",
    "-range\n",
    "-variance (measure the despersion of the set around their mean values)\n",
    "-Standard-deviation\n",
    "-IQR(Interquartil Range) (it is the measure of bell structuer between (75%-25%))\n",
    "        (Q2 or 50th percentile) Median\n",
    "        (Q3 or 75th percentile)\n",
    "        (Q1 or 25th percentile)\n",
    "\n",
    "Note:- 50% value is the Median value."
   ]
  },
  {
   "cell_type": "code",
   "execution_count": 7,
   "id": "96d73b87-e083-4f94-957f-df6ccd57abf7",
   "metadata": {},
   "outputs": [
    {
     "name": "stdout",
     "output_type": "stream",
     "text": [
      "Minimum of the revenues:  5145.0\n",
      "Maximum ofthe revenues:  485873.0\n",
      "Sum of the revenues:  12055874.0\n",
      "Range of the Revenues:  480728.0\n",
      "Variance of the revenues:  1469752660.8501961\n",
      "Standard Deviation of the revenue:  38337.35333653324\n",
      "50th percentile:  11384.0\n",
      "75th percentile:  22605.25\n",
      "25th percentile:  7245.0\n",
      "IQR is :  15360.25\n"
     ]
    }
   ],
   "source": [
    "print(\"Minimum of the revenues: \",F500_df['revenues'].min())\n",
    "print(\"Maximum ofthe revenues: \",F500_df['revenues'].max())\n",
    "print(\"Sum of the revenues: \",F500_df['revenues'].sum())\n",
    "\n",
    "Range=F500_df['revenues'].max()-F500_df['revenues'].min()\n",
    "print(\"Range of the Revenues: \",Range)\n",
    "\n",
    "print(\"Variance of the revenues: \",F500_df['revenues'].var())\n",
    "\n",
    "print(\"Standard Deviation of the revenue: \",F500_df['revenues'].std())\n",
    "\n",
    "Q2=F500_df['revenues'].quantile(0.5)\n",
    "print(\"50th percentile: \",Q2)\n",
    "Q3=F500_df['revenues'].quantile(0.75)\n",
    "print(\"75th percentile: \",Q3)\n",
    "Q1=F500_df['revenues'].quantile(0.25)\n",
    "print(\"25th percentile: \",Q1)\n",
    "\n",
    "IQR=Q3-Q1\n",
    "print(\"IQR is : \",IQR)\n"
   ]
  },
  {
   "cell_type": "markdown",
   "id": "5e277af7-6af2-4f31-a6fb-e6197566e4fb",
   "metadata": {},
   "source": [
    "Boxplot View"
   ]
  },
  {
   "cell_type": "code",
   "execution_count": 7,
   "id": "91d4747c-4cee-45f6-a10d-d112a58ee121",
   "metadata": {},
   "outputs": [
    {
     "data": {
      "image/png": "[encoded data removed]",
      "text/plain": [
       "<Figure size 640x480 with 1 Axes>"
      ]
     },
     "metadata": {},
     "output_type": "display_data"
    }
   ],
   "source": [
    "plt.boxplot(F500_df['revenues'])\n",
    "plt.show()"
   ]
  },
  {
   "cell_type": "markdown",
   "id": "ab44a151-7948-47f6-aca3-db9efeda2a2b",
   "metadata": {},
   "source": [
    "Skewness of the data \n",
    "\n",
    "1) if the skew value is (-0.5 and 0.5) => Symmetric \n",
    "2) if the skew value is ((-1 and -0.5)  or  (0.5 and 1)) => Moderate \n",
    "3) less -1 or greater than 1 => skew"
   ]
  },
  {
   "cell_type": "code",
   "execution_count": null,
   "id": "d32e2c9a-e085-4fe8-a114-b63dfeef3057",
   "metadata": {},
   "outputs": [],
   "source": [
    "print(F500_df['revenues'].skew())"
   ]
  },
  {
   "cell_type": "markdown",
   "id": "bf66c95a-b22b-4e90-b1d6-339576073ed4",
   "metadata": {},
   "source": [
    "plot the distribution "
   ]
  },
  {
   "cell_type": "code",
   "execution_count": 29,
   "id": "69a190a7-b1fa-4de0-a14d-74468638d779",
   "metadata": {},
   "outputs": [
    {
     "name": "stderr",
     "output_type": "stream",
     "text": [
      "C:\\Users\\HP\\AppData\\Local\\Temp\\ipykernel_6424\\3374003767.py:2: UserWarning: \n",
      "\n",
      "`distplot` is a deprecated function and will be removed in seaborn v0.14.0.\n",
      "\n",
      "Please adapt your code to use either `displot` (a figure-level function with\n",
      "similar flexibility) or `histplot` (an axes-level function for histograms).\n",
      "\n",
      "For a guide to updating your code to use the new functions, please see\n",
      "https://gist.github.com/mwaskom/de44147ed2974457ad6372750bbe5751\n",
      "\n",
      "  sn.distplot(data,bins=10,hist=True,kde=True,label='revenues')\n",
      "C:\\Users\\HP\\anaconda3\\Lib\\site-packages\\seaborn\\_oldcore.py:1119: FutureWarning: use_inf_as_na option is deprecated and will be removed in a future version. Convert inf values to NaN before operating instead.\n",
      "  with pd.option_context('mode.use_inf_as_na', True):\n"
     ]
    },
    {
     "data": {
      "text/plain": [
       "<Axes: xlabel='revenues', ylabel='Density'>"
      ]
     },
     "execution_count": 29,
     "metadata": {},
     "output_type": "execute_result"
    },
    {
     "data": {
      "image/png": "[encoded data removed]",
      "text/plain": [
       "<Figure size 640x480 with 1 Axes>"
      ]
     },
     "metadata": {},
     "output_type": "display_data"
    }
   ],
   "source": [
    "data=F500_df['revenues']\n",
    "sn.distplot(data,bins=10,hist=True,kde=True,label='revenues')"
   ]
  },
  {
   "cell_type": "code",
   "execution_count": null,
   "id": "ffe34b76-84ce-409f-af3f-c33f28a16aed",
   "metadata": {},
   "outputs": [],
   "source": []
  }
 ],
 "metadata": {
  "kernelspec": {
   "display_name": "Python 3 (ipykernel)",
   "language": "python",
   "name": "python3"
  },
  "language_info": {
   "codemirror_mode": {
    "name": "ipython",
    "version": 3
   },
   "file_extension": ".py",
   "mimetype": "text/x-python",
   "name": "python",
   "nbconvert_exporter": "python",
   "pygments_lexer": "ipython3",
   "version": "3.11.7"
  }
 },
 "nbformat": 4,
 "nbformat_minor": 5
}
